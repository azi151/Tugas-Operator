{
  "nbformat": 4,
  "nbformat_minor": 0,
  "metadata": {
    "colab": {
      "name": "4_3_Tugas_Materi_Operator_update1[Alfi_Azizah_11200482].ipynb",
      "provenance": [],
      "collapsed_sections": []
    },
    "kernelspec": {
      "name": "python3",
      "display_name": "Python 3"
    }
  },
  "cells": [
    {
      "cell_type": "code",
      "metadata": {
        "id": "wOlm8I2lPwa7"
      },
      "source": [
        ""
      ],
      "execution_count": null,
      "outputs": []
    },
    {
      "cell_type": "markdown",
      "metadata": {
        "id": "xQeqMxskP66X"
      },
      "source": [
        "##Tugas Praktek\n",
        "``` javascript\n",
        "if ... :\n",
        "    print(\"angka termasuk bilangan genap\")\n",
        "else:\n",
        "    print(\"angka termasuk bilangan ganjil\")\n",
        "``` \n",
        "Buatlah sebuah program yang bisa menentukan suatu nilai pada variable itu genap atau ganjil! Lakukan percobaan dengan langkah berikut:\n",
        "\n",
        "Buat variabel dengan nama “angka” isi dengan nilai 10\n",
        "Ganti bagian … dengan perhitungan untuk menentukan angka modulus 2 bernilai 0.\n",
        "\n",
        "1.   Buat variabel dengan nama **“angka”** isi dengan nilai 10\n",
        "2.   Ganti bagian … dengan perhitungan untuk menentukan angka modulus 2 bernilai 0.\n",
        "\n",
        "\n",
        "Cek apakah benar dia bernilai genap maka keluarkan **\"angka termasuk bilangan genap\"**, jika sudah ganti nilai variable angka dengan nilai 5 cek lagi apakah dia bernilai ganjil dan keluarkan **\"angka termasuk bilangan ganjil\"**.\n",
        "\n",
        "Note: Anda bisa menggunakan materi-materi sebelumnya dengan menggabungkannya di tugas praktek ini untuk membantu anda dalam mengerjakan.\n",
        "\n",
        "\n",
        "Ketikan pada code cell di bawah ini pada editor:"
      ]
    },
    {
      "cell_type": "code",
      "metadata": {
        "colab": {
          "base_uri": "https://localhost:8080/"
        },
        "id": "9erxDQy7pjoJ",
        "outputId": "d016ac2e-9d27-400e-cb3e-5fd1d5110436"
      },
      "source": [
        "##Jawaban Tugas Praktek 3.3\n",
        "angka=10\n",
        "if(angka%2==0): \n",
        "  print(\"angka termasuk bilangan genap\") \n",
        "else:\n",
        "    print(\"angka termasuk bilangan ganjil\")"
      ],
      "execution_count": 4,
      "outputs": [
        {
          "output_type": "stream",
          "name": "stdout",
          "text": [
            "angka termasuk bilangan genap\n"
          ]
        }
      ]
    },
    {
      "cell_type": "code",
      "metadata": {
        "id": "eAf4FfQ-Qh57",
        "colab": {
          "base_uri": "https://localhost:8080/"
        },
        "outputId": "d0124899-55ff-4bea-af28-a667fb67f0e3"
      },
      "source": [
        "##Jawaban Tugas Praktek 3.3\n",
        "angka=5\n",
        "if(angka%2==0): \n",
        "  print(\"angka termasuk bilangan genap\") \n",
        "else:\n",
        "    print(\"angka termasuk bilangan ganjil\")"
      ],
      "execution_count": 6,
      "outputs": [
        {
          "output_type": "stream",
          "name": "stdout",
          "text": [
            "angka termasuk bilangan ganjil\n"
          ]
        }
      ]
    }
  ]
}